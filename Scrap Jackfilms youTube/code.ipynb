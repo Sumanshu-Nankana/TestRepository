{
 "cells": [
  {
   "cell_type": "code",
   "execution_count": 1,
   "metadata": {},
   "outputs": [],
   "source": [
    "from selenium import webdriver\n",
    "from selenium.webdriver.common.keys import Keys\n",
    "\n",
    "# pip install webdriver-manager\n",
    "from webdriver_manager.chrome import ChromeDriverManager\n",
    "\n",
    "import time\n",
    "\n",
    "from bs4 import BeautifulSoup"
   ]
  },
  {
   "cell_type": "code",
   "execution_count": 2,
   "metadata": {},
   "outputs": [
    {
     "name": "stderr",
     "output_type": "stream",
     "text": [
      "[WDM] - Current google-chrome version is 87.0.4280\n",
      "[WDM] - Get LATEST driver version for 87.0.4280\n"
     ]
    },
    {
     "name": "stdout",
     "output_type": "stream",
     "text": [
      " \n"
     ]
    },
    {
     "name": "stderr",
     "output_type": "stream",
     "text": [
      "[WDM] - Get LATEST driver version for 87.0.4280\n",
      "[WDM] - Trying to download new driver from http://chromedriver.storage.googleapis.com/87.0.4280.88/chromedriver_linux64.zip\n",
      "[WDM] - Driver has been saved in cache [/home/sumanshu/.wdm/drivers/chromedriver/linux64/87.0.4280.88]\n"
     ]
    }
   ],
   "source": [
    "# this will download webdriver and stored in cache\n",
    "# if it already in cache - then it picks from cache\n",
    "# and then it open web-browser\n",
    "driver = webdriver.Chrome(ChromeDriverManager().install())"
   ]
  },
  {
   "cell_type": "code",
   "execution_count": 3,
   "metadata": {},
   "outputs": [],
   "source": [
    "# this will direct to the mentioned URL - in already open chrome browser\n",
    "driver.get(\"https://www.youtube.com/user/jacksfilms/videos\")"
   ]
  },
  {
   "cell_type": "code",
   "execution_count": 4,
   "metadata": {},
   "outputs": [],
   "source": [
    "# There are so many videos\n",
    "# as we scroll down - the other videos on same page get loaded\n",
    "# so we need to tell chrome to press END button - so that all videos get loaded on same page\n",
    "# there are total 1246 videos right now and on 1 page around 15-20 videos\n",
    "# so we need to press END key approx 62 times (1246/20)\n",
    "# after pressing one END key - we will wait for 3-4 sec to get page loaded fully\n",
    "\n",
    "for _ in range(60):\n",
    "    driver.find_element_by_tag_name(\"body\").send_keys(Keys.END)\n",
    "    time.sleep(4)"
   ]
  },
  {
   "cell_type": "code",
   "execution_count": 5,
   "metadata": {},
   "outputs": [
    {
     "data": {
      "text/html": [
       "<div>\n",
       "<style scoped>\n",
       "    .dataframe tbody tr th:only-of-type {\n",
       "        vertical-align: middle;\n",
       "    }\n",
       "\n",
       "    .dataframe tbody tr th {\n",
       "        vertical-align: top;\n",
       "    }\n",
       "\n",
       "    .dataframe thead th {\n",
       "        text-align: right;\n",
       "    }\n",
       "</style>\n",
       "<table border=\"1\" class=\"dataframe\">\n",
       "  <thead>\n",
       "    <tr style=\"text-align: right;\">\n",
       "      <th></th>\n",
       "      <th>title</th>\n",
       "      <th>video_url</th>\n",
       "      <th>views</th>\n",
       "      <th>video_age</th>\n",
       "    </tr>\n",
       "  </thead>\n",
       "  <tbody>\n",
       "    <tr>\n",
       "      <th>0</th>\n",
       "      <td>Royalty Free Christmas Songs 7</td>\n",
       "      <td>https://www.youtube.com//watch?v=C8OJMHQ1ZZs</td>\n",
       "      <td>355K views</td>\n",
       "      <td>1 day ago</td>\n",
       "    </tr>\n",
       "    <tr>\n",
       "      <th>1</th>\n",
       "      <td>FIX YOUR PIX 4</td>\n",
       "      <td>https://www.youtube.com//watch?v=MoxnDUxc1a8</td>\n",
       "      <td>532K views</td>\n",
       "      <td>1 week ago</td>\n",
       "    </tr>\n",
       "    <tr>\n",
       "      <th>2</th>\n",
       "      <td>WHO IS THE FUNNIEST YOUTUBER?!</td>\n",
       "      <td>https://www.youtube.com//watch?v=VOK0X7K4RZY</td>\n",
       "      <td>515K views</td>\n",
       "      <td>1 week ago</td>\n",
       "    </tr>\n",
       "    <tr>\n",
       "      <th>3</th>\n",
       "      <td>My wife is better at this game than me</td>\n",
       "      <td>https://www.youtube.com//watch?v=lL-EKMziUas</td>\n",
       "      <td>318K views</td>\n",
       "      <td>2 weeks ago</td>\n",
       "    </tr>\n",
       "    <tr>\n",
       "      <th>4</th>\n",
       "      <td>We wrote an original Hallmark Christmas movie ...</td>\n",
       "      <td>https://www.youtube.com//watch?v=zOQXKVGvCXw</td>\n",
       "      <td>430K views</td>\n",
       "      <td>2 weeks ago</td>\n",
       "    </tr>\n",
       "    <tr>\n",
       "      <th>5</th>\n",
       "      <td>The terrifying, confusing world of \"Princess C...</td>\n",
       "      <td>https://www.youtube.com//watch?v=9EK8OE8Svm4</td>\n",
       "      <td>481K views</td>\n",
       "      <td>3 weeks ago</td>\n",
       "    </tr>\n",
       "  </tbody>\n",
       "</table>\n",
       "</div>"
      ],
      "text/plain": [
       "                                               title  \\\n",
       "0                     Royalty Free Christmas Songs 7   \n",
       "1                                     FIX YOUR PIX 4   \n",
       "2                     WHO IS THE FUNNIEST YOUTUBER?!   \n",
       "3             My wife is better at this game than me   \n",
       "4  We wrote an original Hallmark Christmas movie ...   \n",
       "5  The terrifying, confusing world of \"Princess C...   \n",
       "\n",
       "                                      video_url       views    video_age  \n",
       "0  https://www.youtube.com//watch?v=C8OJMHQ1ZZs  355K views    1 day ago  \n",
       "1  https://www.youtube.com//watch?v=MoxnDUxc1a8  532K views   1 week ago  \n",
       "2  https://www.youtube.com//watch?v=VOK0X7K4RZY  515K views   1 week ago  \n",
       "3  https://www.youtube.com//watch?v=lL-EKMziUas  318K views  2 weeks ago  \n",
       "4  https://www.youtube.com//watch?v=zOQXKVGvCXw  430K views  2 weeks ago  \n",
       "5  https://www.youtube.com//watch?v=9EK8OE8Svm4  481K views  3 weeks ago  "
      ]
     },
     "execution_count": 5,
     "metadata": {},
     "output_type": "execute_result"
    }
   ],
   "source": [
    "# All the HTML of entire page come into below variable\n",
    "html = driver.page_source\n",
    "soup = BeautifulSoup(html, 'html.parser')\n",
    "videos = soup.find_all('div', {'id':'dismissable'})\n",
    "master_list = []\n",
    "for video in videos:\n",
    "    data_dict = {}\n",
    "    data_dict['title'] = video.find('a', {'id':'video-title'}).text\n",
    "    data_dict['video_url'] = 'https://www.youtube.com/' + video.find('a', {'id':'video-title'})['href']\n",
    "    meta = video.find('div', {'id':'metadata-line'}).find_all('span')\n",
    "    data_dict['views'] = meta[0].text\n",
    "    data_dict['video_age'] = meta[1].text\n",
    "    master_list.append(data_dict)\n",
    "\n",
    "import pandas as pd\n",
    "youtube_df = pd.DataFrame(master_list)\n",
    "youtube_df.head(6)"
   ]
  },
  {
   "cell_type": "code",
   "execution_count": 6,
   "metadata": {},
   "outputs": [],
   "source": [
    "def convert_views(df):\n",
    "    if 'K' in df['views']:\n",
    "        views = float(df['views'].split('K')[0])*1000\n",
    "        return views\n",
    "    elif 'M' in df['views']:\n",
    "        views = float(df['views'].split('M')[0])*1000000\n",
    "        return views   "
   ]
  },
  {
   "cell_type": "code",
   "execution_count": 7,
   "metadata": {},
   "outputs": [
    {
     "data": {
      "text/html": [
       "<div>\n",
       "<style scoped>\n",
       "    .dataframe tbody tr th:only-of-type {\n",
       "        vertical-align: middle;\n",
       "    }\n",
       "\n",
       "    .dataframe tbody tr th {\n",
       "        vertical-align: top;\n",
       "    }\n",
       "\n",
       "    .dataframe thead th {\n",
       "        text-align: right;\n",
       "    }\n",
       "</style>\n",
       "<table border=\"1\" class=\"dataframe\">\n",
       "  <thead>\n",
       "    <tr style=\"text-align: right;\">\n",
       "      <th></th>\n",
       "      <th>title</th>\n",
       "      <th>video_url</th>\n",
       "      <th>views</th>\n",
       "      <th>video_age</th>\n",
       "      <th>Clean-Views</th>\n",
       "    </tr>\n",
       "  </thead>\n",
       "  <tbody>\n",
       "    <tr>\n",
       "      <th>0</th>\n",
       "      <td>Royalty Free Christmas Songs 7</td>\n",
       "      <td>https://www.youtube.com//watch?v=C8OJMHQ1ZZs</td>\n",
       "      <td>355K views</td>\n",
       "      <td>1 day ago</td>\n",
       "      <td>355000</td>\n",
       "    </tr>\n",
       "    <tr>\n",
       "      <th>1</th>\n",
       "      <td>FIX YOUR PIX 4</td>\n",
       "      <td>https://www.youtube.com//watch?v=MoxnDUxc1a8</td>\n",
       "      <td>532K views</td>\n",
       "      <td>1 week ago</td>\n",
       "      <td>532000</td>\n",
       "    </tr>\n",
       "    <tr>\n",
       "      <th>2</th>\n",
       "      <td>WHO IS THE FUNNIEST YOUTUBER?!</td>\n",
       "      <td>https://www.youtube.com//watch?v=VOK0X7K4RZY</td>\n",
       "      <td>515K views</td>\n",
       "      <td>1 week ago</td>\n",
       "      <td>515000</td>\n",
       "    </tr>\n",
       "    <tr>\n",
       "      <th>3</th>\n",
       "      <td>My wife is better at this game than me</td>\n",
       "      <td>https://www.youtube.com//watch?v=lL-EKMziUas</td>\n",
       "      <td>318K views</td>\n",
       "      <td>2 weeks ago</td>\n",
       "      <td>318000</td>\n",
       "    </tr>\n",
       "    <tr>\n",
       "      <th>4</th>\n",
       "      <td>We wrote an original Hallmark Christmas movie ...</td>\n",
       "      <td>https://www.youtube.com//watch?v=zOQXKVGvCXw</td>\n",
       "      <td>430K views</td>\n",
       "      <td>2 weeks ago</td>\n",
       "      <td>430000</td>\n",
       "    </tr>\n",
       "    <tr>\n",
       "      <th>5</th>\n",
       "      <td>The terrifying, confusing world of \"Princess C...</td>\n",
       "      <td>https://www.youtube.com//watch?v=9EK8OE8Svm4</td>\n",
       "      <td>481K views</td>\n",
       "      <td>3 weeks ago</td>\n",
       "      <td>481000</td>\n",
       "    </tr>\n",
       "  </tbody>\n",
       "</table>\n",
       "</div>"
      ],
      "text/plain": [
       "                                               title  \\\n",
       "0                     Royalty Free Christmas Songs 7   \n",
       "1                                     FIX YOUR PIX 4   \n",
       "2                     WHO IS THE FUNNIEST YOUTUBER?!   \n",
       "3             My wife is better at this game than me   \n",
       "4  We wrote an original Hallmark Christmas movie ...   \n",
       "5  The terrifying, confusing world of \"Princess C...   \n",
       "\n",
       "                                      video_url       views    video_age  \\\n",
       "0  https://www.youtube.com//watch?v=C8OJMHQ1ZZs  355K views    1 day ago   \n",
       "1  https://www.youtube.com//watch?v=MoxnDUxc1a8  532K views   1 week ago   \n",
       "2  https://www.youtube.com//watch?v=VOK0X7K4RZY  515K views   1 week ago   \n",
       "3  https://www.youtube.com//watch?v=lL-EKMziUas  318K views  2 weeks ago   \n",
       "4  https://www.youtube.com//watch?v=zOQXKVGvCXw  430K views  2 weeks ago   \n",
       "5  https://www.youtube.com//watch?v=9EK8OE8Svm4  481K views  3 weeks ago   \n",
       "\n",
       "   Clean-Views  \n",
       "0       355000  \n",
       "1       532000  \n",
       "2       515000  \n",
       "3       318000  \n",
       "4       430000  \n",
       "5       481000  "
      ]
     },
     "execution_count": 7,
     "metadata": {},
     "output_type": "execute_result"
    }
   ],
   "source": [
    "youtube_df['Clean-Views'] = youtube_df.apply(convert_views, axis=1)\n",
    "youtube_df['Clean-Views'] = youtube_df['Clean-Views'].astype(int)\n",
    "youtube_df.head(6)"
   ]
  },
  {
   "cell_type": "code",
   "execution_count": 9,
   "metadata": {},
   "outputs": [
    {
     "name": "stderr",
     "output_type": "stream",
     "text": [
      "[WDM] - Current google-chrome version is 87.0.4280\n",
      "[WDM] - Get LATEST driver version for 87.0.4280\n",
      "[WDM] - Driver [/home/sumanshu/.wdm/drivers/chromedriver/linux64/87.0.4280.88/chromedriver] found in cache\n"
     ]
    },
    {
     "name": "stdout",
     "output_type": "stream",
     "text": [
      " \n"
     ]
    }
   ],
   "source": [
    "driver = webdriver.Chrome(ChromeDriverManager().install())\n",
    "import time\n",
    "\n",
    "master_list = []\n",
    "for url in youtube_df['video_url']:\n",
    "    dic = {}\n",
    "    driver.get(url)\n",
    "    time.sleep(5)\n",
    "    driver.find_element_by_tag_name(\"body\")\n",
    "    time.sleep(1)\n",
    "    html = driver.page_source\n",
    "    soup = BeautifulSoup(html, 'html.parser')\n",
    "    video_views = int(soup.find('span', {'class':\"view-count\"}).text.replace('views','').replace(',',''))\n",
    "    video_date = soup.find('div',{'id':\"date\"})\n",
    "    video_date = video_date.text.replace('•','')\n",
    "    dic['url'] = url\n",
    "    dic['video_views'] = video_views\n",
    "    dic['video_date'] = video_date\n",
    "    master_list.append(dic)\n",
    "    break"
   ]
  },
  {
   "cell_type": "code",
   "execution_count": null,
   "metadata": {},
   "outputs": [],
   "source": [
    "youtube_df1 = pd.DataFrame(master_list)\n",
    "youtube_df1.head()"
   ]
  },
  {
   "cell_type": "code",
   "execution_count": null,
   "metadata": {},
   "outputs": [],
   "source": [
    "final_df = pd.concat([youtube_df,youtube_df1], axis=1)"
   ]
  },
  {
   "cell_type": "code",
   "execution_count": null,
   "metadata": {},
   "outputs": [],
   "source": [
    "final_df.to_csv('jackfilms.csv', index=False)"
   ]
  }
 ],
 "metadata": {
  "kernelspec": {
   "display_name": "Python 3",
   "language": "python",
   "name": "python3"
  },
  "language_info": {
   "codemirror_mode": {
    "name": "ipython",
    "version": 3
   },
   "file_extension": ".py",
   "mimetype": "text/x-python",
   "name": "python",
   "nbconvert_exporter": "python",
   "pygments_lexer": "ipython3",
   "version": "3.8.5"
  }
 },
 "nbformat": 4,
 "nbformat_minor": 4
}
